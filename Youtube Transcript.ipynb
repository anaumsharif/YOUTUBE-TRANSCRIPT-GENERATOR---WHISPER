{
  "cells": [
    {
      "cell_type": "code",
      "execution_count": 44,
      "metadata": {
        "id": "LVnR4X02zaL9"
      },
      "outputs": [],
      "source": [
        "!pip install git+https://github.com/openai/whisper.git -q"
      ]
    },
    {
      "cell_type": "code",
      "execution_count": 45,
      "metadata": {
        "colab": {
          "base_uri": "https://localhost:8080/"
        },
        "id": "Gm5u1ZNzzr35",
        "outputId": "3a90f1c8-e33c-4754-e3f4-e4b73825357f"
      },
      "outputs": [
        {
          "name": "stdout",
          "output_type": "stream",
          "text": [
            "GPU 0: Tesla T4 (UUID: GPU-947a0cb1-986b-8a6f-39b1-0df812e273b2)\n"
          ]
        }
      ],
      "source": [
        "!nvidia-smi -L"
      ]
    },
    {
      "cell_type": "code",
      "execution_count": 46,
      "metadata": {
        "id": "-ZtO_fadzziG"
      },
      "outputs": [],
      "source": [
        "!pip install pytube -q"
      ]
    },
    {
      "cell_type": "code",
      "execution_count": 47,
      "metadata": {
        "id": "2pmzmgioz9UG"
      },
      "outputs": [],
      "source": [
        "import whisper\n",
        "from pytube import YouTube"
      ]
    },
    {
      "cell_type": "code",
      "execution_count": 48,
      "metadata": {
        "id": "MzLtlc-1z_zU"
      },
      "outputs": [],
      "source": [
        "model = whisper.load_model('base')"
      ]
    },
    {
      "cell_type": "code",
      "execution_count": 49,
      "metadata": {
        "id": "FvzPueUR0KQp"
      },
      "outputs": [],
      "source": [
        "youtube_video_url = \"https://www.youtube.com/watch?v=Ho2iJXlcmR8\"\n",
        "youtube_video = YouTube(youtube_video_url)"
      ]
    },
    {
      "cell_type": "code",
      "execution_count": 50,
      "metadata": {
        "colab": {
          "base_uri": "https://localhost:8080/",
          "height": 35
        },
        "id": "3EY7R3Q30ORH",
        "outputId": "1b4ede96-a8ed-4b7e-c7b4-772207c41560"
      },
      "outputs": [
        {
          "data": {
            "application/vnd.google.colaboratory.intrinsic+json": {
              "type": "string"
            },
            "text/plain": [
              "'FOMC Press Conference December 14, 2022'"
            ]
          },
          "execution_count": 50,
          "metadata": {},
          "output_type": "execute_result"
        }
      ],
      "source": [
        "youtube_video.title"
      ]
    },
    {
      "cell_type": "code",
      "execution_count": 51,
      "metadata": {
        "colab": {
          "base_uri": "https://localhost:8080/"
        },
        "id": "WaVJaQQe0RNY",
        "outputId": "f868f355-4277-4e06-a6df-ede997ecf44e"
      },
      "outputs": [
        {
          "data": {
            "text/plain": [
              "165896"
            ]
          },
          "execution_count": 51,
          "metadata": {},
          "output_type": "execute_result"
        }
      ],
      "source": [
        "youtube_video.views"
      ]
    },
    {
      "cell_type": "code",
      "execution_count": 52,
      "metadata": {
        "colab": {
          "base_uri": "https://localhost:8080/"
        },
        "id": "-jYWDvAH0V_9",
        "outputId": "82df4607-1573-4da4-8142-ab1e3fcfae9d"
      },
      "outputs": [
        {
          "name": "stdout",
          "output_type": "stream",
          "text": [
            "<Stream: itag=\"17\" mime_type=\"video/3gpp\" res=\"144p\" fps=\"7fps\" vcodec=\"mp4v.20.3\" acodec=\"mp4a.40.2\" progressive=\"True\" type=\"video\">\n",
            "<Stream: itag=\"18\" mime_type=\"video/mp4\" res=\"360p\" fps=\"30fps\" vcodec=\"avc1.42001E\" acodec=\"mp4a.40.2\" progressive=\"True\" type=\"video\">\n",
            "<Stream: itag=\"22\" mime_type=\"video/mp4\" res=\"720p\" fps=\"30fps\" vcodec=\"avc1.64001F\" acodec=\"mp4a.40.2\" progressive=\"True\" type=\"video\">\n",
            "<Stream: itag=\"137\" mime_type=\"video/mp4\" res=\"1080p\" fps=\"30fps\" vcodec=\"avc1.640028\" progressive=\"False\" type=\"video\">\n",
            "<Stream: itag=\"248\" mime_type=\"video/webm\" res=\"1080p\" fps=\"30fps\" vcodec=\"vp9\" progressive=\"False\" type=\"video\">\n",
            "<Stream: itag=\"136\" mime_type=\"video/mp4\" res=\"720p\" fps=\"30fps\" vcodec=\"avc1.64001f\" progressive=\"False\" type=\"video\">\n",
            "<Stream: itag=\"247\" mime_type=\"video/webm\" res=\"720p\" fps=\"30fps\" vcodec=\"vp9\" progressive=\"False\" type=\"video\">\n",
            "<Stream: itag=\"135\" mime_type=\"video/mp4\" res=\"480p\" fps=\"30fps\" vcodec=\"avc1.4d401f\" progressive=\"False\" type=\"video\">\n",
            "<Stream: itag=\"244\" mime_type=\"video/webm\" res=\"480p\" fps=\"30fps\" vcodec=\"vp9\" progressive=\"False\" type=\"video\">\n",
            "<Stream: itag=\"134\" mime_type=\"video/mp4\" res=\"360p\" fps=\"30fps\" vcodec=\"avc1.4d401e\" progressive=\"False\" type=\"video\">\n",
            "<Stream: itag=\"243\" mime_type=\"video/webm\" res=\"360p\" fps=\"30fps\" vcodec=\"vp9\" progressive=\"False\" type=\"video\">\n",
            "<Stream: itag=\"133\" mime_type=\"video/mp4\" res=\"240p\" fps=\"30fps\" vcodec=\"avc1.4d4015\" progressive=\"False\" type=\"video\">\n",
            "<Stream: itag=\"242\" mime_type=\"video/webm\" res=\"240p\" fps=\"30fps\" vcodec=\"vp9\" progressive=\"False\" type=\"video\">\n",
            "<Stream: itag=\"160\" mime_type=\"video/mp4\" res=\"144p\" fps=\"30fps\" vcodec=\"avc1.4d400c\" progressive=\"False\" type=\"video\">\n",
            "<Stream: itag=\"278\" mime_type=\"video/webm\" res=\"144p\" fps=\"30fps\" vcodec=\"vp9\" progressive=\"False\" type=\"video\">\n",
            "<Stream: itag=\"139\" mime_type=\"audio/mp4\" abr=\"48kbps\" acodec=\"mp4a.40.5\" progressive=\"False\" type=\"audio\">\n",
            "<Stream: itag=\"140\" mime_type=\"audio/mp4\" abr=\"128kbps\" acodec=\"mp4a.40.2\" progressive=\"False\" type=\"audio\">\n",
            "<Stream: itag=\"249\" mime_type=\"audio/webm\" abr=\"50kbps\" acodec=\"opus\" progressive=\"False\" type=\"audio\">\n",
            "<Stream: itag=\"250\" mime_type=\"audio/webm\" abr=\"70kbps\" acodec=\"opus\" progressive=\"False\" type=\"audio\">\n",
            "<Stream: itag=\"251\" mime_type=\"audio/webm\" abr=\"160kbps\" acodec=\"opus\" progressive=\"False\" type=\"audio\">\n"
          ]
        }
      ],
      "source": [
        "for stream in youtube_video.streams:\n",
        "  print(stream)"
      ]
    },
    {
      "cell_type": "code",
      "execution_count": 53,
      "metadata": {
        "colab": {
          "base_uri": "https://localhost:8080/"
        },
        "id": "zx_8Jchy0bOc",
        "outputId": "5904d0a1-80c5-4c7c-cb88-4050240cd543"
      },
      "outputs": [
        {
          "data": {
            "text/plain": [
              "[<Stream: itag=\"139\" mime_type=\"audio/mp4\" abr=\"48kbps\" acodec=\"mp4a.40.5\" progressive=\"False\" type=\"audio\">, <Stream: itag=\"140\" mime_type=\"audio/mp4\" abr=\"128kbps\" acodec=\"mp4a.40.2\" progressive=\"False\" type=\"audio\">, <Stream: itag=\"249\" mime_type=\"audio/webm\" abr=\"50kbps\" acodec=\"opus\" progressive=\"False\" type=\"audio\">, <Stream: itag=\"250\" mime_type=\"audio/webm\" abr=\"70kbps\" acodec=\"opus\" progressive=\"False\" type=\"audio\">, <Stream: itag=\"251\" mime_type=\"audio/webm\" abr=\"160kbps\" acodec=\"opus\" progressive=\"False\" type=\"audio\">]"
            ]
          },
          "execution_count": 53,
          "metadata": {},
          "output_type": "execute_result"
        }
      ],
      "source": [
        "streams = youtube_video.streams.filter(only_audio=True)\n",
        "streams"
      ]
    },
    {
      "cell_type": "code",
      "execution_count": 54,
      "metadata": {
        "colab": {
          "base_uri": "https://localhost:8080/",
          "height": 35
        },
        "id": "SwnHRh1A0dJe",
        "outputId": "493c49a4-6a5e-4d58-f2e8-d3d42fc75cf7"
      },
      "outputs": [
        {
          "data": {
            "application/vnd.google.colaboratory.intrinsic+json": {
              "type": "string"
            },
            "text/plain": [
              "'/content/fed.mp4'"
            ]
          },
          "execution_count": 54,
          "metadata": {},
          "output_type": "execute_result"
        }
      ],
      "source": [
        "stream.download(filename='fed.mp4')"
      ]
    },
    {
      "cell_type": "code",
      "execution_count": 55,
      "metadata": {
        "colab": {
          "base_uri": "https://localhost:8080/"
        },
        "id": "bB0mpyiO0i3p",
        "outputId": "1f48951b-8b1d-4cbe-a3b5-a5a608050374"
      },
      "outputs": [
        {
          "name": "stdout",
          "output_type": "stream",
          "text": [
            "ffmpeg version 3.4.11-0ubuntu0.1 Copyright (c) 2000-2022 the FFmpeg developers\n",
            "  built with gcc 7 (Ubuntu 7.5.0-3ubuntu1~18.04)\n",
            "  configuration: --prefix=/usr --extra-version=0ubuntu0.1 --toolchain=hardened --libdir=/usr/lib/x86_64-linux-gnu --incdir=/usr/include/x86_64-linux-gnu --enable-gpl --disable-stripping --enable-avresample --enable-avisynth --enable-gnutls --enable-ladspa --enable-libass --enable-libbluray --enable-libbs2b --enable-libcaca --enable-libcdio --enable-libflite --enable-libfontconfig --enable-libfreetype --enable-libfribidi --enable-libgme --enable-libgsm --enable-libmp3lame --enable-libmysofa --enable-libopenjpeg --enable-libopenmpt --enable-libopus --enable-libpulse --enable-librubberband --enable-librsvg --enable-libshine --enable-libsnappy --enable-libsoxr --enable-libspeex --enable-libssh --enable-libtheora --enable-libtwolame --enable-libvorbis --enable-libvpx --enable-libwavpack --enable-libwebp --enable-libx265 --enable-libxml2 --enable-libxvid --enable-libzmq --enable-libzvbi --enable-omx --enable-openal --enable-opengl --enable-sdl2 --enable-libdc1394 --enable-libdrm --enable-libiec61883 --enable-chromaprint --enable-frei0r --enable-libopencv --enable-libx264 --enable-shared\n",
            "  libavutil      55. 78.100 / 55. 78.100\n",
            "  libavcodec     57.107.100 / 57.107.100\n",
            "  libavformat    57. 83.100 / 57. 83.100\n",
            "  libavdevice    57. 10.100 / 57. 10.100\n",
            "  libavfilter     6.107.100 /  6.107.100\n",
            "  libavresample   3.  7.  0 /  3.  7.  0\n",
            "  libswscale      4.  8.100 /  4.  8.100\n",
            "  libswresample   2.  9.100 /  2.  9.100\n",
            "  libpostproc    54.  7.100 / 54.  7.100\n",
            "Input #0, matroska,webm, from 'fed.mp4':\n",
            "  Metadata:\n",
            "    encoder         : google/video-file\n",
            "  Duration: 01:46:20.08, start: -0.007000, bitrate: 124 kb/s\n",
            "    Stream #0:0(eng): Audio: opus, 48000 Hz, stereo, fltp (default)\n",
            "File 'fed_trim.mp4' already exists. Overwrite ? [y/N] y\n",
            "Stream mapping:\n",
            "  Stream #0:0 -> #0:0 (opus (native) -> aac (native))\n",
            "Press [q] to stop, [?] for help\n",
            "Output #0, mp4, to 'fed_trim.mp4':\n",
            "  Metadata:\n",
            "    encoder         : Lavf57.83.100\n",
            "    Stream #0:0(eng): Audio: aac (LC) (mp4a / 0x6134706D), 48000 Hz, stereo, fltp, 128 kb/s (default)\n",
            "    Metadata:\n",
            "      encoder         : Lavc57.107.100 aac\n",
            "size=   44365kB time=00:46:40.06 bitrate= 129.8kbits/s speed=18.8x    \n",
            "video:0kB audio:43851kB subtitle:0kB other streams:0kB global headers:0kB muxing overhead: 1.172518%\n",
            "\u001b[1;36m[aac @ 0x556986e7b900] \u001b[0mQavg: 958.448\n"
          ]
        }
      ],
      "source": [
        "!ffmpeg -ss 3580 -i fed.mp4 -t 4560 fed_trim.mp4"
      ]
    },
    {
      "cell_type": "code",
      "execution_count": 57,
      "metadata": {
        "colab": {
          "base_uri": "https://localhost:8080/"
        },
        "id": "Zx5sbBT23B11",
        "outputId": "f6cf9985-4785-472e-ff8c-eecec28c3afd"
      },
      "outputs": [
        {
          "name": "stdout",
          "output_type": "stream",
          "text": [
            "started at 2022-12-28 04:09:05.955154\n",
            "ended at 2022-12-28 04:10:52.826509\n",
            "time elapsed: 0:01:46.871355\n"
          ]
        }
      ],
      "source": [
        "import datetime\n",
        "\n",
        "# save a timestamp before transcription\n",
        "t1 = datetime.datetime.now()\n",
        "print(f\"started at {t1}\")\n",
        "\n",
        "# do the transcription\n",
        "output = model.transcribe(\"fed_trim.mp4\")\n",
        "\n",
        "# show time elapsed after transcription is complete.\n",
        "t2 = datetime.datetime.now()\n",
        "print(f\"ended at {t2}\")\n",
        "print(f\"time elapsed: {t2 - t1}\")"
      ]
    },
    {
      "cell_type": "code",
      "execution_count": 59,
      "metadata": {
        "colab": {
          "base_uri": "https://localhost:8080/",
          "height": 105
        },
        "id": "KkHtmBFu3NFA",
        "outputId": "b5396388-38f5-46e5-a397-2a10b54acb40"
      },
      "outputs": [
        {
          "data": {
            "application/vnd.google.colaboratory.intrinsic+json": {
              "type": "string"
            },
            "text/plain": [
              "\" Good afternoon. Before I go into the details of today's meeting, I'd like to underscore for the American people that we understand the hardship that high inflation is causing and that we are strongly committed to bringing inflation back down to our 2% goal. Over the course of the year, we've taken forceful actions to tighten the stance of monetary policy. We've covered a lot of ground and the full effects of our rapid tightening so far are yet to be felt. Even so, we have more work to do. Price stability is the responsibility of the Federal Reserve and serves as the bedrock of our economy. Without price stability, the economy doesn't work for anyone. In particular, without price stability, we will not achieve a sustained period of strong labor market conditions that benefit all. Today the FOMC raised our policy interest rate by a half percentage point. We continue to anticipate that ongoing increases will be appropriate in order to attain a stance of monetary policy that is sufficiently restrictive to return inflation to 2% over time. In addition, we're continuing the process of significantly reducing the size of our balance sheet. Restoring price stability will likely require maintaining a restrictive policy stance for some time. I'll have more to say about today's monetary policy actions after briefly reviewing economic developments. The U.S. economy has slowed significantly from last year's rapid pace. Although real GDP rose at a pace of 2.9% last quarter, it is roughly unchanged through the first three quarters of this year. Recent indicators point to modest growth of spending and production this quarter. Growth in consumer spending has slowed from last year's rapid pace in part reflecting lower real disposable income and tighter financial conditions. The housing sector has weakened significantly, largely reflecting higher mortgage rates. Higher interest rates and slower output growth also appear to be weighing on business fixed investment. As shown in our summary of economic projections, the median projection for real GDP growth stands at just 0.5% this year and next well below the median estimate of a longer run normal growth rate. Despite the slowdown in growth, the labor market remains extremely tight with the unemployment rate near a 50-year low. Job vacancies still very high and wage growth elevated. Job gains have been robust with employment rising by an average of 272,000 jobs per month over the last three months. Although job vacancies have moved below their highs and the pace of job gains have slowed from earlier in the year, the labor market continues to be out of balance with demand substantially exceeding the supply of available workers. The labor force participation rate is little changed since the beginning of the year. The firm C participants expect supply and demand conditions in the labor market to come into better balance over time, easing upward pressures on wages and prices. The median projection in the SEP for the unemployment rate rises to 4.6% at the end of next year. The inflation remains well above our longer run goal of 2%. Over the 12 months ending in October, total PCE prices rose 6%, excluding the volatile food and energy categories, core PCE prices rose 5%. In November, the 12 month change in the CPI was 7.1% and the change in the core CPI was 6%. The inflation data received so far for October and November show a welcome reduction in the monthly pace of price increases. But it will take substantially more evidence to give confidence that inflation is on a sustained downward path. Price pressures remain evident across a broad range of goods and services. Russia's war against Ukraine has boosted prices for energy and food and has contributed to upward pressure on inflation. The median projection in the SEP for total PCE inflation is 5.6% this year and falls 3.1% next year, 2.5% in 2024 and 2.1% in 2025. Participants continue to see risks to inflation as weighted to the upside. Despite elevated inflation, longer-term inflation expectations appear to remain well-anchored. As reflected in a broad range of surveys of households, businesses and forecasters, as well as measures from financial markets. But that is not grounds for complacency. The longer the current bout of high inflation continues, the greater the chance that expectations of higher inflation will become entrenched. The Fed's monetary policy actions are guided by our mandate to promote maximum employment and stable prices for the American people. My colleagues and I are acutely aware that high inflation imposes significant hardship as it erodes purchasing power, especially for those least able to meet the higher costs of essentials like food, housing and transportation. We are highly attentive to the risks that high inflation poses to both sides of our mandate and we are strongly committed to returning inflation to our 2% objective. And today's meeting, the committee raised the target range for the federal funds rate by a half percentage point, bringing the target range to 4.4 to 4.5%. And we are continuing the process of significantly reducing the size of our balance sheet. With today's action, we have raised interest rates by 4.4 percentage points this year. We continue to anticipate that ongoing increases in the target range for the federal funds rate will be appropriate in order to attain a stance of monetary policy that is sufficiently restrictive to return inflation to 2% over time. Over the course of the year, financial conditions have tightened significantly in response to our policy actions. Financial conditions fluctuate in the short-term in response to many factors, but it is important that over time they reflect the policy restraint that we are putting in place to return inflation to 2%. We are seeing the effects on demand in the most intracensitive sectors of the economy, such as housing. It will take time, however, for the full effects of monetary restraint to be realized, especially on inflation. In light of the cumulative tightening of monetary policy and the lags with which monetary policy affects economic activity and inflation, the committee decided to raise interest rates by 50 basis points today, a step down from the 75 basis point pace seen over the previous four meetings. Of course, 50 basis points is still a historically large increase, and we still have some ways to go. As shown in the SEP, the median projection for the appropriate level of the federal funds rate is 5.1% at the end of next year, a half percentage point higher than projected in September. The median projection is 4.1% at the end of 2024, and 3.1% at the end of 2025, still above the median estimate of its longer run value. Of course, these projections do not represent a committee decision or plan, and no one knows with any certainty where the economy will be a year or more from now. Our decisions will depend on the totality of incoming data and their implications for the outlook for economic activity and inflation, and we will continue to make our decisions meeting by meeting and communicate our thinking as clearly as possible. We are taking forceful steps to moderate demand so that it comes into better alignment with supply. Our overarching focus is using our tools to bring inflation back down to our 2% goal, and to keep longer term inflation expectations well anchored. Reducing inflation is likely to require a sustained period of below trend growth and some softening of labor market conditions. Restoring price stability is essential to set the stage for achieving maximum employment and stable prices over the long run. This historical record caution strongly against prematurely loosening policy. We will stay the course until the job is done. To conclude, we understand that our actions affect communities, families, and businesses across the country. Everything we do is in service to our public mission. We at the Fed will do everything we can to achieve our maximum employment and price stability goals. Thank you. I will look forward to your questions. Steve Leesman, CNBC. Thanks for taking my question, Mr. Chairman. You just talked about the importance of market conditions, reflecting the policy restraint you put in place. Since the November meeting, the 10-year has declined by 60 basis points. Mortgage rates have come down. High yield credit spreads have come in. The economy is accelerated and the stock market is up 6%. Is this loosening a financial condition a problem for the Fed and its effort and it's fighting against inflation? And if so, do you need to do something about that and how would you do something about that? Thank you. So as I mentioned, it is important that overall financial conditions continue to reflect the policy restraint that we're putting in place to bring inflation down to 2%. We think that financial conditions have tightened significantly in the past year, but our policy actions work through financial conditions and those in turn affect economic activity, the labor market and inflation. So what we control is our policy moves and the communications that we make. Financial conditions both anticipate and react to our actions. I would add that our focus is not on short-term moves but on persistent moves and many, many things, of course, move financial conditions over time. I would say it's our judgment today that we're not at a sufficiently restrictive policy stance yet, which is why we say that we would expect that ongoing hikes would be appropriate. And I would point you to the SEP again for our current assessment of what that peak level will be. As you will have seen, 19 people filled out the SEP this time and 17 of those 19 wrote down a peak rate of 5% or more in the fives. So that's our best assessment today for what we think the peak rate will be. You will also know that at each subsequent SEP during the course of this year, we've actually increased our estimate of what that peak rate will be. And today, the SEP that we're published shows that, again, that overwhelmingly, FOMC participants believe that inflation risks are to the upside. So I can't tell you confidently that we won't move up our estimate of the peak rate, again, at the next SEP. I don't know what we'll do. It will depend on future data. What we're writing down today is our best estimate of what we think that peak rate will be based on what we know. Obviously, if the inflation data come in worse, that could move up and it could move down if inflation data are softer. Gina. Gina's my lucky new year times. Thanks for taking our questions. The SEP, like you mentioned, suggests that the Fed will be making another 3.25 percentage points worth of rate increases in 2023. I wonder if you would foresee that being in 25 basis point increments, 50 basis point increments, sort of how you see the speed playing out going forward. And then I wonder what you're looking at as you determine when to stop. So as I've been saying, as we've gone through the course of this year, as we lifted off and got into the course of the year, and we saw that the, how strong inflation was now persistent, it was very important to move quickly. In fact, the speed, the pace with which we're moving was the most important thing. I think now that we're coming to the end of this year, we've raised 425 basis points this year and we're into restrictive territory. It's now not so important how fast we go. It's far more important to think what is the ultimate level. And then at a certain point, the question will become how long do we remain restrictive. That will become the most important question. But I would say the most important question now is no longer the speed. So in that applies to February as well. So I think we'll make the February decision based on the incoming data and where we see financial conditions, where we see the economy. And that'll be the key thing. But I mean, for that decision. But ultimately, that question about how high the raise rates is going to be one that we make looking at our progress on inflation, looking at where financial conditions are, and making an assessment of whether policy is restrictive enough. I've told you today we have an assessment that we're not as restrictive enough stance even with today's move. And we've laid out our individual assessments of what we would need to do to get there. At a certain point, though, we'll get to that point. And then the question will be how long do we stay there? And there, the strong view on the committee is that we'll need to stay there until we're really confident that inflation is coming down in a sustained way. And we think that that will be some time. Now why do I say that? You look at the, you can break inflation down into three sort of buckets. The first is goods inflation. And we see now, as we've been expecting really for a year and a half, that supply conditions would get better. And ultimately, supply chains get fixed and demand settles down a little bit. And maybe goes back to services a little bit. And we start to see goods inflation coming down. We're now starting to see that in this report and the last one. When you go to housing services, we know the story there is that housing services inflation has been very, very high. And we'll continue to go up, actually, as rents expire and have to be renewed. They're going to be renewed into a market where rates are higher than they were when the original leases were signed. But we see that the new leases, that the rate for new leases is coming down. So once we work our way through that backlog, that inflation will come down sometime next year. And the next case, which is something like 55% of the index, PCE and core inflation index, is non-housing related core services. And that's really a function of a labor market, largely, at the biggest cost by far in that sector. As labor, and we do see a very, very strong labor market. One where we haven't seen much softening, where job growth is very high, where wages are very high. Vacancies are quite elevated. And really there's an imbalance in the labor market between supply and demand. So that part of it, which is the biggest part, is likely to take a substantial period to get down. The good inflation has turned pretty quickly now. After not turning at all for a year and a half now, it seems to be turning. But there's an expectation, really, that the services inflation will not move down so quickly, so that we'll have to stay at it so that we may have to raise rates higher to get to where we want to go. That's really why we are writing down those high rates and why we're expecting that they'll have to remain high for a time. Howard Schneider with Reuters, thanks for taking the question. You described GDP growth in the CEPS as moderate, or modest, I believe. Yet it's really approaching stall speed. Half a percentage point is not much. You described labor market unemployment rate as representing some softening. But it's nearly a full percentage point rise, and that's well in excess of what has historically been associated with recession. Why wouldn't this be considered a recessionary projection by the Fed? Well, I'll tell you what the projection is. I don't think it would qualify as a recession, though, because you've got positive growth. The expectations in the CEP are basically, as you said, which is we've got growth at a modest level, which is to say about a half a percentage point. That's positive growth. That's low growth. It's well below trend. It's not going to feel like a boom. It's going to feel like very slow growth. In that condition, labor market conditions are softening a bit. Unemployment does go up a bit. I would say that many analysts believe that the natural rate of unemployment is actually elevated at this moment. So it's not clear that those forecasts of inflation are really much above the natural rate of unemployment. We can never identify its location with great precision. But that 4.7% is still a strong labor market. If you look, the reports we get from the field are that companies are very reluctant to lay people off, other than the tech companies, which is a story onto itself. Generally, companies want to hold onto the workers they have because it's been very, very hard to hire. You've got all these vacancies out there far in excess of the number employed people. That doesn't sound like a labor market where a lot of people will need to be put out of work. We, you know, there are channels through which the labor market can come back into balance with relatively modest increases in unemployment, we believe. None of that is guaranteed, but that is what their forecast reflects. Nick. Thanks, Nick Timmerow, so the Wall Street Journal. Chair Powell, I want to follow up on Gina's question. The decision to step down the pace of rate increases. The rate rises, appears to have been socialized at your last meeting largely before the past two CPI reports showed inflation decelerating in line with the committee's forecast this year. You just now talked about making decisions, meeting by meeting, and being mindful of the lags of policy. Does that mean all things equal? You would feel more comfortable probing where the terminal rate is by moving in 25 basis point increments, including beginning at your next meeting. So I haven't made a judgment on what size rate hike to make it to last meeting, but what you said is broadly right, which is having moved so quickly and having now so much restraint that's still in the pipeline, we think that the appropriate thing to do now is to move to a slower pace. And that will allow us to feel our way and get to that level, we think, and better balance the risks that we face. So that's the idea. It makes a lot of sense, it seems to me, particularly if you consider how far we've come. But again, I can't tell you today what the actual size of that will be. It will depend on a variety of factors, including the incoming data in particular, the state of the economy, the state of financial conditions. Would the CPI report that come out last week, do you think it will change some of those forecasts in today's SEP? No, absolutely not. No, as a, just a matter of practice, the SEP reflects any data that comes out during the meeting. And participants know that they have the, they know this, that they can make changes to their SEP during the meeting, well in advance of the press conference so that we're not running around. But that's not the case. It's never the case that the SEPs don't reflect an important piece of data that came in on the first day of the meeting. Thanks, Rachel. Hi, Chair Powell, Rachel Segal from the Washington News. Thank you for taking our questions. I'm wondering if we could talk about the projection for the unemployment rate. Why has the Fed raised its unemployment projection? Is it because the model suggests that a higher terminal rate would automatically cause a higher unemployment rate, or are you seeing signs that the labor market isn't quite as strong as we think it is now? Thanks. No, it's not about the strength of the labor market. Labor market is, is clearly very strong. It is more just that, you know, by now we had expected, we've continually expected to make faster progress on inflation than we have, ultimately. And that's why the, that's why the, the peak rate for this year goes up between this meeting and the September meeting. You see that, you see the fact that we've made less progress and expected on inflation. So that's why that goes up. And that's why unemployment goes up because we're having to tighten policy more. And so it didn't go up by much in the media, I don't think, but that's the idea. Is slower progress on inflation, tighter policy, probably higher rates, probably held for longer, just to get to where you, the kind of restriction that you need to get inflation down to 2%. Do you have a sense of, in order to get to that number, how much of that could be caused by layoffs versus vacancies, trimming, or changes to the labor force population, right? But it's very hard to say, you know, there, you can look at, look and look at history, right? And history would, you know, would say that in a situation like this, the declines and unemployment would be more meaningful, I think, than, than what you see written down there. But why do we think that is the case? So I'll give you a few reasons. What's just is that there's this huge overhang of vacancies, meaning that vacancies can come down a fair amount, and we're hearing from many companies that they don't want to lay people off. So that they'll keep people because it's been so hard. And I think we, it feels like we have a structural labor shortage out there, where there, you know, 4 million fewer people, a little more than 4 million, who are in the workforce available to work than there's demand for workforce. So the fact that there's a strong labor market, you know, means that companies will hold on to workers, and it means that it may take longer, but it also means that the costs in unemployment may be less. Again, that we're going to find out empirically, but I think that's a reasonably possible outcome, and you do hear, you know, many, many labor economists believe that it is. So we'll see you though. Colby. Thank you, Colby Smith with the Financial Times. How should we interpret the higher core inflation forecast for 23 in the SEP? Does that not then suggest that the policy rate currently forecasted for next year should actually be higher than the 5.1 medium estimate penciled in? Well, I think that's why one of the reasons it went up was that core came in stronger this year, came in stronger this year. Yeah, what you see is our best estimate as of today, really, as of today, for how high we need to raise rates to how much we need to tighten policy to create enough, you know, restrictive policy to slow economic activity and slow soften the labor market and bring inflation down through those channels. That's all you, that's, that is the estimate, best estimate we make today, and as I mentioned, we'll make another estimate for the next SEP. And well, you know, of course, between meetings we do the same thing, but we don't publish it. Victoria. Hi, Victoria, with Politico. I wanted to make sure I understand specifically what's going on in the SEP because you all expect rates to go higher, but you're also more pessimistic about what inflation is going to look like next year. And I was just wondering, you know, given that we have seen some cooling in inflation, you know, is it, is that primarily because of wage growth that you expect wage growth to be sort of a, a headwind? No, we're, we're going into next year with higher inflation than we had thought, right? So we're actually moving down to the level that we're moving down to next year. Still a very large drop in inflation from where inflation is running now, well more than a one percent change in inflation. But remember that the jump off point at the beginning of the year is higher. So it, you know, we, we're moving down still by a very large chunk. I don't think it's having, I don't think the policies have any less effect. It's just starting from a higher level at the end of 2022. So we're getting down, I believe the median is 3.5%. That would be, that's a pretty significant drop in inflation. And you know, where's it coming from? It's coming from, it's coming from the good sector clearly. By the middle of next year, we should begin to see lower inflation from the housing services sector. And then, you know, the big question is, how much will you see from the largest, the 55% of the index, which is the non-housing services sector? And you know, that's where you need to see, we believe you need to see a better balancing of supply and demand in the labor market. So you have, it's not that we don't want wage increases. We want strong wage increases. We just want them to be at a level that's consistent with 2% inflation. Right now, if you put into, if you factor in productivity estimates, standard productivity estimates, wages are running well above what would be consistent with 2% inflation. Neil. Thanks. Hi, Chair Powell. Neil, Neil Irwin with Axios. Some of your colleagues have been pretty explicit that they can't imagine rate cuts happening in 2023. That's certainly not implied by the SEP. But futures markets have priced in some easing in the back half of next year. What's your view of the likelihood of any kind of rate cuts next year? What circumstances might make that plausible? You know, our focus right now is really on moving our policy stance to one that is restrictive enough to assure a return of inflation to our 2% goal over time. It's not on rate cuts. And we think that we'll have to maintain a restrictive stance of policy for some time, historical experience, caution strongly against prematurely loosening policy. I guess I would say it this way. I wouldn't see us considering rate cuts until the committee is confident that inflation is moving down to 2% in a sustained way. So that's the test I would articulate. And you're correct. There are not rate cuts in the SEP for 2023. Steve Matthews with Bloomberg. Let me ask you about China. In the last few weeks, China has abandoned its COVID policy and been reopening pretty strongly. I'm wondering if you see that as disinflationary because you're seeing supply chains improve or inflationary because it obviously brings a lot more demand globally and proves the global outlook for growth and for commodity prices. So you're right. Those two things will offset each other. We could, we could output in China. We'll push down on commodity prices, but it could interfere with supply chains ultimately and that could push inflation up in the West. It's very hard to say how much, how those two will offset each other. And it doesn't seem likely actually that the overall net effect would be material on us. In your point, China faces a very challenging situation in reopening. We've seen waves of COVID all around the world can interfere with economic activity. China, a very critical manufacturing place for manufacturing and exporting. Their supply chain is very important. And China faces a reopening. They've backed away from their COVID restriction policies. There could be very significant increases in COVID. We'll just have to see it's a risky situation. But again, it doesn't seem like it's likely to have material overall effects on us. Chris. Hi, Chris Ruegeber, associated press. Thank you for taking my question. I wanted to, I wanted to if you could comment a bit more about yesterday's inflation report. I mean, it showed inflation cooling in all three of the categories that you laid out at Brookings. Are you starting to see, are you confident that you're seeing real progress on getting inflation under control? Are you still worried it could slip into some kind of unentrenched, you know, upward spiral? Thank you. Right. So the data that we've received so far for October and November, we don't have the, some of the, we have some remaining data to get in November, but they clearly do show a welcome reduction in the monthly pace of price increases. As I mentioned in my opening statement, it will take substantially more evidence to give confidence that inflation is on a sustained downward path. So the way we think about this is this, this report is very much in line with what we've been expecting and hoping for. And what it does is it provides greater confidence in our forecast of declining inflation. As I mentioned, we've been expecting significant, significant declines in, in overall inflation and core inflation in the coming year. And this is the kind of reading that it will take to, to support that. So really this gives us greater confidence in our forecast rather than at this point, changing our forecast. In terms of the pieces, we have been expecting a good inflation to come down as supply chain pressures are eased. That's happening now. Housing services, as I mentioned, there is good news in the pipeline as long as housing, new housing leases show declining inflation that will show up in the measure around the middle of next year. So that should help. And the big piece again is core services ex housing, which is very important. And we have a ways to go there. You do see some beginning signs there, but ultimately that's the big, that more than half, as I mentioned, of PCE core index. And it's very fundamentally about the labor market and wages. If you look at wages, look at the average hourly earnings number we got with the last pay rolls report. You don't really see much progress in terms of average hourly earnings coming down. Now there may be composition effects and other effects in that. So we don't put too much weight on any one report. These things can be volatile month to month. But we'll be looking for wages moving down to more normal levels where workers are doing well. And ultimately, their gains are not being eaten up by inflation. Michael, please. Excuse me, Michael McKee from Bloomberg Radio and television. There's a little bit of a disconnect between the optimistic view. You just expressed about the economy and the changes that you've made in the set. And I'm wondering if you're reacting to the fact that the markets have loosened financial conditions or if you feel the Fed may be a little bit behind on inflation, whether in the recent disinflation we're seeing is transitory or not. And how this affects the idea of a soft landing if you're projecting just half a percent growth for this year. So if I think I got your question. So one thing is to say is I think our policies in getting into a pretty good place now we're restrictive and I think we're getting close to that level of sufficient, we think sufficiently restrictive. We laid out today what our best estimates are to get there. And I mean, it boils down to how long do we think this process is going to take. And of course, we welcome these better inflation reports for the last two months. They're very welcome. But I think we're realistic about the broader project. So that's the point I would make. We see goods prices coming down. We understand what will happen with housing services. But the big story will really be the rest of it and there's not much progress there. And that's going to take some time. I think my view and my colleagues view is that this will take some time. We'll have to hold policy at a restrictive level for a sustained period so that two good reports are very welcome. Of course, they're very welcome. But we need to be honest with ourselves that there's inflation, 12-month core inflation is 6 percent CPI. That's three times our 2 percent target. Now it's good to see progress, but let's just understand we have a long ways to go to get back to price stability. What do you think the soft landing is no longer a human? No, I wouldn't say that. No, I don't say that. I mean, I would say this, to the extent we need to keep rates higher and keep them there for longer and inflation moves up higher and higher, I think that narrow is the runway. But lower inflation readings, if they persist in time, could certainly make it more possible. So I don't think anyone knows whether we're going to have a recession or not. And if we do, whether it's going to be a deep one or not, it's just not knowable. And certainly, lower inflation reports were they to continue for a period of time would increase the likelihood of a, so I would put it this way, of a return to price stability that involves significantly less of an increase in unemployment than would be expected given the historical record. Hi, Chairman Powell, Brian Chong, NBC News. You warned Americans of pain earlier this year as the Fed likes rates, but with the Fed now expected to raise rates higher than you thought when you first said that, just wondering where we are in that pain, how would you describe that to Americans if the projections on unemployment find themselves? That would be 1.6 million Americans out of jobs. So the largest amount of pain, the worst pain would come from a failure to raise rates high enough and from us allowing inflation to become entrenched in the economy so that the ultimate cost of getting it out of the economy would be very high in terms of unemployment, meaning very high unemployment for extended periods of time. The kind of thing that had to happen when inflation really got out of control and the Fed didn't respond aggressively enough or soon enough in a prior episode, 50 years ago. So that's really the worst pain, would be if we failed to act. What we're doing now is it's raising interest rates for people and so people are paying higher rates on mortgages and that kind of thing. There will be some softening in labor market conditions and I wish there were a completely painless way to restore price stability, there isn't and this is the best we can do. I do think though that and markets are pretty confident, it seems to me that we will get inflation under control and I believe we will. We're certainly highly committed to do that. Great. Thank you, Mr. Chair. Grady Trumble with Fox Business. We've reiterated today and the committee has reiterated its commitment to that 2% inflation target. I wonder is there ever a point where you actually reevaluate that target and maybe increase your inflation target if it is stickier than even you think it is? That's just changing our inflation goal is just something we're not thinking about. It's not something we're not going to think about. We have a 2% inflation goal and we'll use our tools to get inflation back to 2%. I think this isn't the time to be thinking about that. There may be a longer run project at some point but that is not where we are at all. We're not considering that. We're not going to consider that under any circumstances. We're going to keep our inflation target at 2% and we're going to use our tools to get inflation back to 2%. Nicole. Thank you, Chairman Powell. Nicole, good kinds of business. As you monitor wage growth and unemployment data, I wonder if you're paying close attention to a sector or even income level. How do you factor potential exacerbations of inequality into your calculations, especially given the case shapes recovery of 2020? So I would go back to the labor market that we had in 2018-1920. So what that looked like was wage increases for the people at the lowest end of the income spectrum were the largest. The gaps between racial groups and gender groups were at their smallest in recorded history. And that all of that because of a tight labor market, a tight labor market which had inflation running just a tick below 2% in the economy growing right at its potential. So that seems like something that would be really good for the economy and for the country if we could get back to that. And so that's what all of us want to do. We want to get back to us to a long expansion where the labor market can remain strong over an extended period of time. That's a really good thing for workers in the economy. And we'd love to get back to that. That's what our goal is. You know, in the near term, we have to use our tools to restore price stability. But we can't, what we have to think about is the medium and longer term. If you think about it, the country went through a difficult time, I think, much more difficult than we can think it would happen here. But it really set up our economy for several decades of prosperity. So price stability is something that really pays dividends for the benefit of the economy and the people in it over a very, very long period of time. And so when it is lost for whatever reason, it has to be restored. And as quickly as possible, which is what we're doing. In the near term, are you back there and you've exhausted the potential of vaccinations in the economy? Are you monitoring? We do. Yes, we absolutely do. We look at, it's our regular practice to talk about unemployment rates by different groups, including racial groups, and that sort of thing. We do. We keep our eye on that. Nancy. Hi, Nancy Marshall-Genzer with Marketplace. What would you do if the economy slows so much that we enter recession before we see strong, consistent signs that inflation is slowing? In other words, stagflation. So I don't want to get into too many hypotheticals, but we'll, it's hard to deal with hypotheticals. So let me just say that we have to use our tools to support maximum employment and price stability. I've made it clear that right now the labor market is very, very strong. You're at near a 50-year low. You're at or above maximum employment in a 50-year low and unemployment. Vacancies are very high. Wages, nominal wages are very high. So the labor market is very, very strong. Where we're missing is on the inflation side. And we're missing by lot on the inflation side. So that means we need to really focus on getting inflation under control. And that's what we'll do. I think as the economy heals, the two goals come more into play. But right now, clearly the focus has to be on getting inflation down. Great. Thank you, Chairman Powell. Greg Robb from MarketWatch. You spoke a little bit ago, you said that the US looks like we have a structural labor shortage in the economy. Could you expand on that? Talk a little bit more about that. And really are you talking about getting Congress action on increasing like legal immigration, things like that? Thank you. So what I meant by that, the structural labor shortage is if you look at where we are now. If you just look at demand for labor, you can look at vacancies plus people who are actually working. And then you can take supply of labor by are you in the labor market? Are you looking for a job or have a job? And you're more than 4 million people short. We don't see, despite very high wages in an incredibly tight labor market, we don't see participation moving up, which is contrary to what we thought. So the upshot of all that is the labor market is actually, it's 3.5 million people at least smaller than it should have been based on pre-pandemic, just assume population and reasonable growth in aging of the population. Our labor force should be 3.5 million more than it is. And there are lots of easy ways to get to bigger numbers than that if you go back a few more years. So why is that? One of it is just accelerated retirements, people dropped out and aren't coming back at a higher rate than expected. Part of it is that we lost 1.5 million people who would have been worked close to 1.5 million who would have been working died from COVID. And part of it is that migration has been lower. We don't prescribe, it's not our job to prescribe things. But I think if you ask businesses pretty much everybody you talk to says there aren't enough people. We need more people. So I tried to identify that in the speech I gave a month ago, but I stopped short of telling Congress what to do because they gave us a job and we need to do that job. Thanks Jennifer. Thank you, Chair Powell. Jennifer Seanberger with Yahoo Finance. You say you expect growth of just half a percent next year, given that you said the process of raising rates and getting inflation back under control will be painful. Have you had discussions within the committee and addressed how long and or how deep of a recession you would be willing to accept? No, I mean what we do is we make we make our forecasts and we publish them quarterly. And you know, if you look at those forecasts, those are those are forecasts for slow growth for a softening labor market by which I mean unemployment goes up but not a great deal. And you see inflation coming down. You see rates going up, the light and see inflation coming down. Those are those forecasts and that's really what they show. We're not, we don't talk about this kind of a recession and that kind of a recession. We make those forecasts. The staff runs and you will see this if you look at the old teal books runs alternative simulations of all different kinds at every meeting and we look at those too. And those will explore different things but that's just you know, upcycling, downside scenarios of course that's responsible practice that we've carried on for many decades. But no, we don't, we haven't asked ourselves that question. Good, a gene for the last question. Hi, Gene Young with Market News. I wanted to ask about the SCP again. If you're reaching peak rates around 5% in the first half of next year and inflation starts to decline materially, that would seem to make the real rate gradually more restrictive. Is that something that's built into the projections and into models? Is that something you would want to see? So we do know that of course that's something that we know and we'd see. And as I mentioned, you know, we wouldn't, I wouldn't see the committee cutting rates until we're confident that inflation is moving down in a sustained way. That that would be my test. I don't see us as having a really clear, precise understanding of what the neutral rate is and what real rates are so that would mechanically happen like that. It would really, it'll be a test of, for cutting rates I think in the event it'll be a question of do we actually feel confident that inflation is coming down in a sustained way? Thank you very much.\""
            ]
          },
          "execution_count": 59,
          "metadata": {},
          "output_type": "execute_result"
        }
      ],
      "source": [
        "output['text']"
      ]
    }
  ],
  "metadata": {
    "accelerator": "GPU",
    "colab": {
      "authorship_tag": "ABX9TyO/I4NVrRBITz36oeIdlKDl",
      "include_colab_link": true,
      "provenance": []
    },
    "gpuClass": "standard",
    "kernelspec": {
      "display_name": "Python 3",
      "name": "python3"
    },
    "language_info": {
      "name": "python"
    }
  },
  "nbformat": 4,
  "nbformat_minor": 0
}
